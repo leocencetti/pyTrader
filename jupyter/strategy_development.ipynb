{
 "cells": [
  {
   "cell_type": "code",
   "execution_count": 33,
   "metadata": {},
   "outputs": [],
   "source": [
    "import numpy as np\n",
    "import pandas as pd"
   ]
  },
  {
   "cell_type": "code",
   "execution_count": 20,
   "metadata": {},
   "outputs": [
    {
     "data": {
      "text/plain": "                   date     open      high       low    close   volume\n99  2021-02-05 14:47:00  101.890  101.9200  101.8900  101.920  11494.0\n98  2021-02-05 14:48:00  101.920  101.9400  101.8700  101.875  19637.0\n97  2021-02-05 14:49:00  101.875  101.8862  101.8001  101.855  21018.0\n96  2021-02-05 14:50:00  101.855  101.8550  101.7200  101.720  14664.0\n95  2021-02-05 14:51:00  101.720  101.7800  101.6600  101.780  21786.0\n..                  ...      ...       ...       ...      ...      ...\n4   2021-02-05 18:24:00  102.000  102.0000  102.0000  102.000    100.0\n3   2021-02-05 18:36:00  101.600  101.6000  101.6000  101.600    130.0\n2   2021-02-05 18:49:00  101.600  101.6000  101.6000  101.600    200.0\n1   2021-02-05 18:58:00  101.630  101.6300  101.6300  101.630    168.0\n0   2021-02-05 19:56:00  102.000  102.0000  102.0000  102.000    301.0\n\n[100 rows x 6 columns]",
      "text/html": "<div>\n<style scoped>\n    .dataframe tbody tr th:only-of-type {\n        vertical-align: middle;\n    }\n\n    .dataframe tbody tr th {\n        vertical-align: top;\n    }\n\n    .dataframe thead th {\n        text-align: right;\n    }\n</style>\n<table border=\"1\" class=\"dataframe\">\n  <thead>\n    <tr style=\"text-align: right;\">\n      <th></th>\n      <th>date</th>\n      <th>open</th>\n      <th>high</th>\n      <th>low</th>\n      <th>close</th>\n      <th>volume</th>\n    </tr>\n  </thead>\n  <tbody>\n    <tr>\n      <th>99</th>\n      <td>2021-02-05 14:47:00</td>\n      <td>101.890</td>\n      <td>101.9200</td>\n      <td>101.8900</td>\n      <td>101.920</td>\n      <td>11494.0</td>\n    </tr>\n    <tr>\n      <th>98</th>\n      <td>2021-02-05 14:48:00</td>\n      <td>101.920</td>\n      <td>101.9400</td>\n      <td>101.8700</td>\n      <td>101.875</td>\n      <td>19637.0</td>\n    </tr>\n    <tr>\n      <th>97</th>\n      <td>2021-02-05 14:49:00</td>\n      <td>101.875</td>\n      <td>101.8862</td>\n      <td>101.8001</td>\n      <td>101.855</td>\n      <td>21018.0</td>\n    </tr>\n    <tr>\n      <th>96</th>\n      <td>2021-02-05 14:50:00</td>\n      <td>101.855</td>\n      <td>101.8550</td>\n      <td>101.7200</td>\n      <td>101.720</td>\n      <td>14664.0</td>\n    </tr>\n    <tr>\n      <th>95</th>\n      <td>2021-02-05 14:51:00</td>\n      <td>101.720</td>\n      <td>101.7800</td>\n      <td>101.6600</td>\n      <td>101.780</td>\n      <td>21786.0</td>\n    </tr>\n    <tr>\n      <th>...</th>\n      <td>...</td>\n      <td>...</td>\n      <td>...</td>\n      <td>...</td>\n      <td>...</td>\n      <td>...</td>\n    </tr>\n    <tr>\n      <th>4</th>\n      <td>2021-02-05 18:24:00</td>\n      <td>102.000</td>\n      <td>102.0000</td>\n      <td>102.0000</td>\n      <td>102.000</td>\n      <td>100.0</td>\n    </tr>\n    <tr>\n      <th>3</th>\n      <td>2021-02-05 18:36:00</td>\n      <td>101.600</td>\n      <td>101.6000</td>\n      <td>101.6000</td>\n      <td>101.600</td>\n      <td>130.0</td>\n    </tr>\n    <tr>\n      <th>2</th>\n      <td>2021-02-05 18:49:00</td>\n      <td>101.600</td>\n      <td>101.6000</td>\n      <td>101.6000</td>\n      <td>101.600</td>\n      <td>200.0</td>\n    </tr>\n    <tr>\n      <th>1</th>\n      <td>2021-02-05 18:58:00</td>\n      <td>101.630</td>\n      <td>101.6300</td>\n      <td>101.6300</td>\n      <td>101.630</td>\n      <td>168.0</td>\n    </tr>\n    <tr>\n      <th>0</th>\n      <td>2021-02-05 19:56:00</td>\n      <td>102.000</td>\n      <td>102.0000</td>\n      <td>102.0000</td>\n      <td>102.000</td>\n      <td>301.0</td>\n    </tr>\n  </tbody>\n</table>\n<p>100 rows × 6 columns</p>\n</div>"
     },
     "execution_count": 20,
     "metadata": {},
     "output_type": "execute_result"
    }
   ],
   "source": [
    "filename ='../data/intraday.csv'\n",
    "data = pd.read_csv(filename)\n",
    "data = data[::-1]\n",
    "data"
   ]
  },
  {
   "cell_type": "code",
   "execution_count": 24,
   "metadata": {},
   "outputs": [
    {
     "data": {
      "text/plain": "                   date     open      high       low    close   volume  \\\n99  2021-02-05 14:47:00  101.890  101.9200  101.8900  101.920  11494.0   \n98  2021-02-05 14:48:00  101.920  101.9400  101.8700  101.875  19637.0   \n97  2021-02-05 14:49:00  101.875  101.8862  101.8001  101.855  21018.0   \n96  2021-02-05 14:50:00  101.855  101.8550  101.7200  101.720  14664.0   \n95  2021-02-05 14:51:00  101.720  101.7800  101.6600  101.780  21786.0   \n..                  ...      ...       ...       ...      ...      ...   \n4   2021-02-05 18:24:00  102.000  102.0000  102.0000  102.000    100.0   \n3   2021-02-05 18:36:00  101.600  101.6000  101.6000  101.600    130.0   \n2   2021-02-05 18:49:00  101.600  101.6000  101.6000  101.600    200.0   \n1   2021-02-05 18:58:00  101.630  101.6300  101.6300  101.630    168.0   \n0   2021-02-05 19:56:00  102.000  102.0000  102.0000  102.000    301.0   \n\n        sma10       sma50  sma200  \n99        NaN         NaN     NaN  \n98        NaN         NaN     NaN  \n97        NaN         NaN     NaN  \n96        NaN         NaN     NaN  \n95        NaN         NaN     NaN  \n..        ...         ...     ...  \n4   101.84099  101.837062     NaN  \n3   101.83999  101.832064     NaN  \n2   101.82599  101.828286     NaN  \n1   101.82799  101.822686     NaN  \n0   101.86799  101.823686     NaN  \n\n[100 rows x 9 columns]",
      "text/html": "<div>\n<style scoped>\n    .dataframe tbody tr th:only-of-type {\n        vertical-align: middle;\n    }\n\n    .dataframe tbody tr th {\n        vertical-align: top;\n    }\n\n    .dataframe thead th {\n        text-align: right;\n    }\n</style>\n<table border=\"1\" class=\"dataframe\">\n  <thead>\n    <tr style=\"text-align: right;\">\n      <th></th>\n      <th>date</th>\n      <th>open</th>\n      <th>high</th>\n      <th>low</th>\n      <th>close</th>\n      <th>volume</th>\n      <th>sma10</th>\n      <th>sma50</th>\n      <th>sma200</th>\n    </tr>\n  </thead>\n  <tbody>\n    <tr>\n      <th>99</th>\n      <td>2021-02-05 14:47:00</td>\n      <td>101.890</td>\n      <td>101.9200</td>\n      <td>101.8900</td>\n      <td>101.920</td>\n      <td>11494.0</td>\n      <td>NaN</td>\n      <td>NaN</td>\n      <td>NaN</td>\n    </tr>\n    <tr>\n      <th>98</th>\n      <td>2021-02-05 14:48:00</td>\n      <td>101.920</td>\n      <td>101.9400</td>\n      <td>101.8700</td>\n      <td>101.875</td>\n      <td>19637.0</td>\n      <td>NaN</td>\n      <td>NaN</td>\n      <td>NaN</td>\n    </tr>\n    <tr>\n      <th>97</th>\n      <td>2021-02-05 14:49:00</td>\n      <td>101.875</td>\n      <td>101.8862</td>\n      <td>101.8001</td>\n      <td>101.855</td>\n      <td>21018.0</td>\n      <td>NaN</td>\n      <td>NaN</td>\n      <td>NaN</td>\n    </tr>\n    <tr>\n      <th>96</th>\n      <td>2021-02-05 14:50:00</td>\n      <td>101.855</td>\n      <td>101.8550</td>\n      <td>101.7200</td>\n      <td>101.720</td>\n      <td>14664.0</td>\n      <td>NaN</td>\n      <td>NaN</td>\n      <td>NaN</td>\n    </tr>\n    <tr>\n      <th>95</th>\n      <td>2021-02-05 14:51:00</td>\n      <td>101.720</td>\n      <td>101.7800</td>\n      <td>101.6600</td>\n      <td>101.780</td>\n      <td>21786.0</td>\n      <td>NaN</td>\n      <td>NaN</td>\n      <td>NaN</td>\n    </tr>\n    <tr>\n      <th>...</th>\n      <td>...</td>\n      <td>...</td>\n      <td>...</td>\n      <td>...</td>\n      <td>...</td>\n      <td>...</td>\n      <td>...</td>\n      <td>...</td>\n      <td>...</td>\n    </tr>\n    <tr>\n      <th>4</th>\n      <td>2021-02-05 18:24:00</td>\n      <td>102.000</td>\n      <td>102.0000</td>\n      <td>102.0000</td>\n      <td>102.000</td>\n      <td>100.0</td>\n      <td>101.84099</td>\n      <td>101.837062</td>\n      <td>NaN</td>\n    </tr>\n    <tr>\n      <th>3</th>\n      <td>2021-02-05 18:36:00</td>\n      <td>101.600</td>\n      <td>101.6000</td>\n      <td>101.6000</td>\n      <td>101.600</td>\n      <td>130.0</td>\n      <td>101.83999</td>\n      <td>101.832064</td>\n      <td>NaN</td>\n    </tr>\n    <tr>\n      <th>2</th>\n      <td>2021-02-05 18:49:00</td>\n      <td>101.600</td>\n      <td>101.6000</td>\n      <td>101.6000</td>\n      <td>101.600</td>\n      <td>200.0</td>\n      <td>101.82599</td>\n      <td>101.828286</td>\n      <td>NaN</td>\n    </tr>\n    <tr>\n      <th>1</th>\n      <td>2021-02-05 18:58:00</td>\n      <td>101.630</td>\n      <td>101.6300</td>\n      <td>101.6300</td>\n      <td>101.630</td>\n      <td>168.0</td>\n      <td>101.82799</td>\n      <td>101.822686</td>\n      <td>NaN</td>\n    </tr>\n    <tr>\n      <th>0</th>\n      <td>2021-02-05 19:56:00</td>\n      <td>102.000</td>\n      <td>102.0000</td>\n      <td>102.0000</td>\n      <td>102.000</td>\n      <td>301.0</td>\n      <td>101.86799</td>\n      <td>101.823686</td>\n      <td>NaN</td>\n    </tr>\n  </tbody>\n</table>\n<p>100 rows × 9 columns</p>\n</div>"
     },
     "execution_count": 24,
     "metadata": {},
     "output_type": "execute_result"
    }
   ],
   "source": [
    "for wsz in [10, 50, 200]:\n",
    "    data['sma{}'.format(wsz)] = data['close'].rolling(wsz).mean()\n",
    "data"
   ]
  },
  {
   "cell_type": "code",
   "execution_count": 25,
   "outputs": [
    {
     "data": {
      "text/plain": "                   date     open      high       low    close   volume  \\\n99  2021-02-05 14:47:00  101.890  101.9200  101.8900  101.920  11494.0   \n98  2021-02-05 14:48:00  101.920  101.9400  101.8700  101.875  19637.0   \n97  2021-02-05 14:49:00  101.875  101.8862  101.8001  101.855  21018.0   \n96  2021-02-05 14:50:00  101.855  101.8550  101.7200  101.720  14664.0   \n95  2021-02-05 14:51:00  101.720  101.7800  101.6600  101.780  21786.0   \n..                  ...      ...       ...       ...      ...      ...   \n4   2021-02-05 18:24:00  102.000  102.0000  102.0000  102.000    100.0   \n3   2021-02-05 18:36:00  101.600  101.6000  101.6000  101.600    130.0   \n2   2021-02-05 18:49:00  101.600  101.6000  101.6000  101.600    200.0   \n1   2021-02-05 18:58:00  101.630  101.6300  101.6300  101.630    168.0   \n0   2021-02-05 19:56:00  102.000  102.0000  102.0000  102.000    301.0   \n\n        sma10       sma50  sma200       ema10       ema50  ema200  \n99        NaN         NaN     NaN         NaN         NaN     NaN  \n98        NaN         NaN     NaN         NaN         NaN     NaN  \n97        NaN         NaN     NaN         NaN         NaN     NaN  \n96        NaN         NaN     NaN         NaN         NaN     NaN  \n95        NaN         NaN     NaN         NaN         NaN     NaN  \n..        ...         ...     ...         ...         ...     ...  \n4   101.84099  101.837062     NaN  101.885270  101.664510     NaN  \n3   101.83999  101.832064     NaN  101.905612  101.696427     NaN  \n2   101.82599  101.828286     NaN  101.956991  101.689163     NaN  \n1   101.82799  101.822686     NaN  101.959733  101.623967     NaN  \n0   101.86799  101.823686     NaN  101.923582  101.573941     NaN  \n\n[100 rows x 12 columns]",
      "text/html": "<div>\n<style scoped>\n    .dataframe tbody tr th:only-of-type {\n        vertical-align: middle;\n    }\n\n    .dataframe tbody tr th {\n        vertical-align: top;\n    }\n\n    .dataframe thead th {\n        text-align: right;\n    }\n</style>\n<table border=\"1\" class=\"dataframe\">\n  <thead>\n    <tr style=\"text-align: right;\">\n      <th></th>\n      <th>date</th>\n      <th>open</th>\n      <th>high</th>\n      <th>low</th>\n      <th>close</th>\n      <th>volume</th>\n      <th>sma10</th>\n      <th>sma50</th>\n      <th>sma200</th>\n      <th>ema10</th>\n      <th>ema50</th>\n      <th>ema200</th>\n    </tr>\n  </thead>\n  <tbody>\n    <tr>\n      <th>99</th>\n      <td>2021-02-05 14:47:00</td>\n      <td>101.890</td>\n      <td>101.9200</td>\n      <td>101.8900</td>\n      <td>101.920</td>\n      <td>11494.0</td>\n      <td>NaN</td>\n      <td>NaN</td>\n      <td>NaN</td>\n      <td>NaN</td>\n      <td>NaN</td>\n      <td>NaN</td>\n    </tr>\n    <tr>\n      <th>98</th>\n      <td>2021-02-05 14:48:00</td>\n      <td>101.920</td>\n      <td>101.9400</td>\n      <td>101.8700</td>\n      <td>101.875</td>\n      <td>19637.0</td>\n      <td>NaN</td>\n      <td>NaN</td>\n      <td>NaN</td>\n      <td>NaN</td>\n      <td>NaN</td>\n      <td>NaN</td>\n    </tr>\n    <tr>\n      <th>97</th>\n      <td>2021-02-05 14:49:00</td>\n      <td>101.875</td>\n      <td>101.8862</td>\n      <td>101.8001</td>\n      <td>101.855</td>\n      <td>21018.0</td>\n      <td>NaN</td>\n      <td>NaN</td>\n      <td>NaN</td>\n      <td>NaN</td>\n      <td>NaN</td>\n      <td>NaN</td>\n    </tr>\n    <tr>\n      <th>96</th>\n      <td>2021-02-05 14:50:00</td>\n      <td>101.855</td>\n      <td>101.8550</td>\n      <td>101.7200</td>\n      <td>101.720</td>\n      <td>14664.0</td>\n      <td>NaN</td>\n      <td>NaN</td>\n      <td>NaN</td>\n      <td>NaN</td>\n      <td>NaN</td>\n      <td>NaN</td>\n    </tr>\n    <tr>\n      <th>95</th>\n      <td>2021-02-05 14:51:00</td>\n      <td>101.720</td>\n      <td>101.7800</td>\n      <td>101.6600</td>\n      <td>101.780</td>\n      <td>21786.0</td>\n      <td>NaN</td>\n      <td>NaN</td>\n      <td>NaN</td>\n      <td>NaN</td>\n      <td>NaN</td>\n      <td>NaN</td>\n    </tr>\n    <tr>\n      <th>...</th>\n      <td>...</td>\n      <td>...</td>\n      <td>...</td>\n      <td>...</td>\n      <td>...</td>\n      <td>...</td>\n      <td>...</td>\n      <td>...</td>\n      <td>...</td>\n      <td>...</td>\n      <td>...</td>\n      <td>...</td>\n    </tr>\n    <tr>\n      <th>4</th>\n      <td>2021-02-05 18:24:00</td>\n      <td>102.000</td>\n      <td>102.0000</td>\n      <td>102.0000</td>\n      <td>102.000</td>\n      <td>100.0</td>\n      <td>101.84099</td>\n      <td>101.837062</td>\n      <td>NaN</td>\n      <td>101.885270</td>\n      <td>101.664510</td>\n      <td>NaN</td>\n    </tr>\n    <tr>\n      <th>3</th>\n      <td>2021-02-05 18:36:00</td>\n      <td>101.600</td>\n      <td>101.6000</td>\n      <td>101.6000</td>\n      <td>101.600</td>\n      <td>130.0</td>\n      <td>101.83999</td>\n      <td>101.832064</td>\n      <td>NaN</td>\n      <td>101.905612</td>\n      <td>101.696427</td>\n      <td>NaN</td>\n    </tr>\n    <tr>\n      <th>2</th>\n      <td>2021-02-05 18:49:00</td>\n      <td>101.600</td>\n      <td>101.6000</td>\n      <td>101.6000</td>\n      <td>101.600</td>\n      <td>200.0</td>\n      <td>101.82599</td>\n      <td>101.828286</td>\n      <td>NaN</td>\n      <td>101.956991</td>\n      <td>101.689163</td>\n      <td>NaN</td>\n    </tr>\n    <tr>\n      <th>1</th>\n      <td>2021-02-05 18:58:00</td>\n      <td>101.630</td>\n      <td>101.6300</td>\n      <td>101.6300</td>\n      <td>101.630</td>\n      <td>168.0</td>\n      <td>101.82799</td>\n      <td>101.822686</td>\n      <td>NaN</td>\n      <td>101.959733</td>\n      <td>101.623967</td>\n      <td>NaN</td>\n    </tr>\n    <tr>\n      <th>0</th>\n      <td>2021-02-05 19:56:00</td>\n      <td>102.000</td>\n      <td>102.0000</td>\n      <td>102.0000</td>\n      <td>102.000</td>\n      <td>301.0</td>\n      <td>101.86799</td>\n      <td>101.823686</td>\n      <td>NaN</td>\n      <td>101.923582</td>\n      <td>101.573941</td>\n      <td>NaN</td>\n    </tr>\n  </tbody>\n</table>\n<p>100 rows × 12 columns</p>\n</div>"
     },
     "execution_count": 25,
     "metadata": {},
     "output_type": "execute_result"
    }
   ],
   "source": [
    "for wsz in [10, 50, 200]:\n",
    "    data['ema{}'.format(wsz)] = data['close'].rolling(wsz, win_type='exponential').mean()\n",
    "data\n"
   ],
   "metadata": {
    "collapsed": false,
    "pycharm": {
     "name": "#%%\n"
    }
   }
  },
  {
   "cell_type": "code",
   "execution_count": 30,
   "outputs": [
    {
     "name": "stdout",
     "output_type": "stream",
     "text": [
      "99    False\n",
      "98    False\n",
      "97    False\n",
      "96    False\n",
      "95    False\n",
      "      ...  \n",
      "4      True\n",
      "3      True\n",
      "2     False\n",
      "1      True\n",
      "0      True\n",
      "Length: 100, dtype: bool\n"
     ]
    }
   ],
   "source": [
    "swaps = data['sma10'] > data['sma50']\n",
    "print(swaps)\n"
   ],
   "metadata": {
    "collapsed": false,
    "pycharm": {
     "name": "#%%\n"
    }
   }
  },
  {
   "cell_type": "code",
   "execution_count": 43,
   "outputs": [
    {
     "data": {
      "text/plain": "99    NaN\n98    0.0\n97    0.0\n96    0.0\n95    0.0\n     ... \n4     1.0\n3     0.0\n2    -1.0\n1     1.0\n0     0.0\nLength: 100, dtype: float64"
     },
     "execution_count": 43,
     "metadata": {},
     "output_type": "execute_result"
    }
   ],
   "source": [
    "edges = swaps.rolling(2).aggregate(np.diff)\n",
    "edges"
   ],
   "metadata": {
    "collapsed": false,
    "pycharm": {
     "name": "#%%\n"
    }
   }
  },
  {
   "cell_type": "code",
   "execution_count": null,
   "outputs": [],
   "source": [],
   "metadata": {
    "collapsed": false,
    "pycharm": {
     "name": "#%%\n"
    }
   }
  }
 ],
 "metadata": {
  "kernelspec": {
   "display_name": "Python 3",
   "language": "python",
   "name": "python3"
  },
  "language_info": {
   "codemirror_mode": {
    "name": "ipython",
    "version": 3
   },
   "file_extension": ".py",
   "mimetype": "text/x-python",
   "name": "python",
   "nbconvert_exporter": "python",
   "pygments_lexer": "ipython3",
   "version": "3.7.7"
  }
 },
 "nbformat": 4,
 "nbformat_minor": 1
}